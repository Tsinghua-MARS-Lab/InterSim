{
 "cells": [
  {
   "cell_type": "markdown",
   "id": "ae5aebe7",
   "metadata": {},
   "source": [
    "# Build, test or integrate your planner\n",
    "\n",
    "Welcome back, this is the second tutorial of InterSim. Please make sure that you have a proper environment setup for InterSim before moving forward. \n",
    "\n",
    "In this tutorial, you will learn the APIs to:\n",
    "1. get the data your planner need in your planner\n",
    "2. return a legit planning result to the simulator\n",
    "\n",
    "You will also learn how to debug your planner's result per step with the help of your visualization tools. Let's get started."
   ]
  },
  {
   "cell_type": "markdown",
   "id": "ef76b05c",
   "metadata": {},
   "source": [
    "## Create and Import Your Planner\n",
    "\n",
    "To simulate in a closed-loop fashion, InterSim has a planenr for all environment agents `env_planner.py` and a planner for the ego vehicle `base_planenr.py`. \n",
    "\n",
    "The first step to create a new planner is to create a new python script in the folder `./plan`. The most easy way is to copy and start from the `dummpy_planner.py`. Follow the following steps to register and switch a new planner:\n",
    "\n",
    "1. Rename your planner script at your preference, like `your_planenr.py`.\n",
    "2. Rename your planner class, for example `class YourPlanner(EnvPlanner):`. It is compulsory to inherit from the EnvPlanner.\n",
    "3. Import your planner at `drive.py`, for example `from plan.your_planner import YourPlanner`\n",
    "4. Initialize your planner in the configure function at `drive.py` with a customized config value, like `your_planner_name`.\n",
    "5. Change the parameter of `ego_planner` to your cusomized planner name, like `your_planner_name`.\n",
    "\n",
    "Try to run the simulation again, now InterSim should you your new planner instead of the default ego_planner.\n",
    "\n",
    "`python sim.py --max_scenarios 5`"
   ]
  },
  {
   "cell_type": "markdown",
   "id": "34439641",
   "metadata": {},
   "source": [
    "## plan_ego function\n",
    "\n",
    "You can see a minimal plan_ego function defined in the `dummy_planner.py`. In every step, as defined by frame_rate in the config, `drive.py` will call this function to aquire a new ego plan. Like the dummy_planner, you might need the following variables and functions for your planner."
   ]
  },
  {
   "cell_type": "markdown",
   "id": "2e6b41cd",
   "metadata": {},
   "source": [
    "### Basic Planning Variables\n",
    "\n",
    "InterSim will initiate the planner with these variables:\n",
    "\n",
    "- self.frame_rate: how many frames are there in the each second\n",
    "- self.planning_from: planner start planning no later than this frame\n",
    "- self.planning_to: planner will not plan after a specific frame\n",
    "- self.planning horizon: planner plans a trajectory for x frames in the future\n",
    "- self.total_frame: data_loader loads x frames and the simulation will terminate after x\n",
    "- self.planning_interval: planner plans every x frames\n",
    "\n",
    "You should change these variables from the config to make changes gloable."
   ]
  },
  {
   "cell_type": "markdown",
   "id": "cb7a7678",
   "metadata": {},
   "source": [
    "### Basic Planning Infos\n",
    "\n",
    "At every time step, the simulator will pass two parameters into plan_ego for planning:\n",
    "\n",
    "1. current_state: this is a dictionary that holds all information of the current scenario\n",
    "2. current_frame_idx: the current frame number for planning\n",
    "\n",
    "You might need the following information for your planner to plan:\n",
    "\n",
    "- ego_agent_id: query by `current_state['predicting']['ego_id'][1]`\n",
    "- total_time_frame: query by `current_state['agent'][ego_agent_id]['pose'].shape[0]`\n",
    "- my_current_pose: query by `current_state['agent'][ego_agent_id]['pose'][current_frame_idx - 1]`\n",
    "- current_route: this is a list of lane_ids as the route for the ego to travel, query by `self.get_reroute_traj()`"
   ]
  },
  {
   "cell_type": "markdown",
   "id": "e37ac87b",
   "metadata": {},
   "source": [
    "### Interperlator\n",
    "\n",
    "Planners has a default interperlator, `SudoInterpolator`. You can initialize the interperlator with an array of points (at least two points). Then you can get a trajectory from the path you initalize for a series of coming time steps by calling `self.get_trajectory_from_interpolator()`.\n",
    "\n",
    "Note neither the interperlator nor the function that converts path into trajectories from the beta verion is perfect at all. Ideally, the interperpolator should consider a vehicle dynamic model and the get_trajectory function should apply a decent optimization method for better performance."
   ]
  },
  {
   "cell_type": "markdown",
   "id": "dde1ed5d",
   "metadata": {},
   "source": [
    "### Return the Ego Planning Result\n",
    "\n",
    "Replace the future trajectory of the ego_agent by one line of codes like blow and the `planed_traj` is the trajectory you planned with a dimention of t*4. The pose is a t*4 dimensional array where t is the number of time steps. The 4 dimensinal state is $[x, y, z, yaw]$. Yaw is an angular value from $[-\\pi, \\pi]$.\n",
    "\n",
    "```python\n",
    "current_state['agent'][ego_agent_id]['pose'][current_frame_idx:planning_horizon +\n",
    "                                             current_frame_idx, :] = planed_traj[:total_time_frame - \n",
    "                                                                                 current_frame_idx, :]\n",
    "```"
   ]
  },
  {
   "attachments": {},
   "cell_type": "markdown",
   "id": "ceb9d680",
   "metadata": {},
   "source": [
    "## Debug\n",
    "\n",
    "Debugging planners can be exhausting considering the great complexity of the planning task itself, especially when you involve predictors. It is critical to debug your planners at every step with a clear visualization.\n",
    "\n",
    "InterSim provides a convenient Python-based visualization tool to debug your planner at each step. Change the running_mode in config to 0 and the visualization window should pop-up like below. Our Python-based visualization tool works on Mac, Windows, and Ubuntu.\n",
    "\n",
    "It is easy to debug your planner with the help of the Python-based visualization tool. Pass your planning trajectory, which should have a t*4 dimension, into the list for `trajectory_to_mark` in the `predicting` dictionary like below. And you should see a trajectory plot on the visualization for your plan at each step. You can imply this same trick when debuging your predictor by ploting your prediction results, as shown in the default `base_planner`.\n",
    "\n",
    "InterSim will loop all trajectories in the `trajectory_to_mark`, plot them and clean them at each step after a planning interval.\n",
    "\n",
    "<img src=\"./visual_snapshot.png\"  width=\"500\" height=\"500\">"
   ]
  },
  {
   "cell_type": "code",
   "execution_count": null,
   "id": "a999506a",
   "metadata": {},
   "outputs": [],
   "source": []
  },
  {
   "cell_type": "code",
   "execution_count": null,
   "id": "584388d6",
   "metadata": {},
   "outputs": [],
   "source": []
  }
 ],
 "metadata": {
  "kernelspec": {
   "display_name": "NuPlan",
   "language": "python",
   "name": "nuplan"
  },
  "language_info": {
   "codemirror_mode": {
    "name": "ipython",
    "version": 3
   },
   "file_extension": ".py",
   "mimetype": "text/x-python",
   "name": "python",
   "nbconvert_exporter": "python",
   "pygments_lexer": "ipython3",
   "version": "3.9.13"
  }
 },
 "nbformat": 4,
 "nbformat_minor": 5
}
